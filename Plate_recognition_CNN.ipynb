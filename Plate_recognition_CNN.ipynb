{
  "nbformat": 4,
  "nbformat_minor": 0,
  "metadata": {
    "colab": {
      "name": "Plate_recognition_Sasha.ipynb",
      "provenance": [],
      "collapsed_sections": []
    },
    "kernelspec": {
      "name": "python3",
      "display_name": "Python 3"
    },
    "accelerator": "GPU"
  },
  "cells": [
    {
      "cell_type": "markdown",
      "metadata": {
        "colab_type": "text",
        "id": "rmv9kNCWz1ww"
      },
      "source": [
        "### Preparations"
      ]
    },
    {
      "cell_type": "code",
      "metadata": {
        "id": "S_AWLLp4Y4QK",
        "colab_type": "code",
        "colab": {}
      },
      "source": [
        "%matplotlib inline\n",
        "import cv2\n",
        "from matplotlib import pyplot as plt\n",
        "import numpy as np\n",
        "from IPython.display import clear_output\n",
        "import matplotlib.image as mpimg\n",
        "\n",
        "import keras \n",
        "from __future__ import print_function\n",
        "from keras.datasets import mnist\n",
        "from keras.models import Sequential\n",
        "from keras.layers import Dense, Dropout, Flatten\n",
        "from keras.layers import Conv2D, MaxPooling2D, MaxPool2D\n",
        "from keras import backend as K\n",
        "from keras.layers.normalization import BatchNormalization\n",
        "from keras.layers.advanced_activations import PReLU\n",
        "\n",
        "!pip install emnist\n",
        "\n",
        "#from emnist import extract_training_samples\n",
        "#from emnist import extract_test_samples\n",
        "clear_output()"
      ],
      "execution_count": 0,
      "outputs": []
    },
    {
      "cell_type": "code",
      "metadata": {
        "id": "BpnB2n2RY4QT",
        "colab_type": "code",
        "colab": {}
      },
      "source": [
        "!wget \"https://drive.google.com/uc?export=view&id=1vF8JiWOEkNd5NxtvQ1wfr8D-U3YGH3kf\" -O russian_plate_recog.jpg\n",
        "img = cv2.imread('russian_plate_recog.jpg')\n",
        "img_gray = cv2.cvtColor(img, cv2.COLOR_BGR2GRAY)\n",
        "#plt.imshow(img_gray, cmap = 'gray')\n",
        "clear_output()"
      ],
      "execution_count": 0,
      "outputs": []
    },
    {
      "cell_type": "code",
      "metadata": {
        "id": "kjF_PfZ-Y4Qa",
        "colab_type": "code",
        "colab": {}
      },
      "source": [
        "plate_points_1 = np.float32([[1028, 874], [1184, 890], [1027, 906], [1184, 924]]) #KIA 0)Upper Left 1)Upper Right 2)Bot Rihgt\n",
        "plate_points_2 = np.float32([[293, 714], [422, 719], [291, 743], [421, 749]])"
      ],
      "execution_count": 0,
      "outputs": []
    },
    {
      "cell_type": "markdown",
      "metadata": {
        "colab_type": "text",
        "id": "54T9tiDz-TIa"
      },
      "source": [
        "## Step 1 -> Undistort"
      ]
    },
    {
      "cell_type": "code",
      "metadata": {
        "id": "Y5YTpMMOg3fa",
        "colab_type": "code",
        "outputId": "c6368f03-96c2-4f8a-d084-8a8e79983d14",
        "colab": {
          "base_uri": "https://localhost:8080/",
          "height": 146
        }
      },
      "source": [
        "img_to_draw = np.copy(img_gray)\n",
        "#KIA\n",
        "# image, line begin point, line end point, color, thikness\n",
        "cv2.line(img_to_draw, (plate_points_1[0][0],plate_points_1[0][1]), (plate_points_1[1][0],plate_points_1[1][1]), (255,255,0), 4)\n",
        "cv2.line(img_to_draw, (plate_points_1[1][0],plate_points_1[1][1]), (plate_points_1[3][0],plate_points_1[3][1]), (255,255,0), 4)\n",
        "cv2.line(img_to_draw, (plate_points_1[2][0],plate_points_1[2][1]), (plate_points_1[3][0],plate_points_1[3][1]), (255,255,0), 4)\n",
        "cv2.line(img_to_draw, (plate_points_1[2][0],plate_points_1[2][1]), (plate_points_1[0][0],plate_points_1[0][1]), (255,255,0), 4)\n",
        "plt.subplot(232)\n",
        "#Shkoda\n",
        "cv2.line(img_to_draw, (plate_points_2[0][0],plate_points_2[0][1]), (plate_points_2[1][0],plate_points_2[1][1]), (255,0,255), 4)\n",
        "cv2.line(img_to_draw, (plate_points_2[1][0],plate_points_2[1][1]), (plate_points_2[3][0],plate_points_2[3][1]), (255,0,255), 4)\n",
        "cv2.line(img_to_draw, (plate_points_2[2][0],plate_points_2[2][1]), (plate_points_2[3][0],plate_points_2[3][1]), (255,0,255), 4)\n",
        "cv2.line(img_to_draw, (plate_points_2[2][0],plate_points_2[2][1]), (plate_points_2[0][0],plate_points_2[0][1]), (255,0,255), 4)\n",
        "plt.imshow(img_to_draw, cmap = 'gray')\n",
        "plt.show()"
      ],
      "execution_count": 0,
      "outputs": [
        {
          "output_type": "display_data",
          "data": {
            "image/png": "[encoded data removed]",
            "text/plain": [
              "<Figure size 432x288 with 1 Axes>"
            ]
          },
          "metadata": {
            "tags": []
          }
        }
      ]
    },
    {
      "cell_type": "markdown",
      "metadata": {
        "id": "2BstwXgNdW2t",
        "colab_type": "text"
      },
      "source": [
        "I want to get picture of the plate with shape (220, 50). This 2 functions will help me:\n",
        "- cv2.getPerspectiveTransform\n",
        "- cv2.warpPerspective"
      ]
    },
    {
      "cell_type": "code",
      "metadata": {
        "colab_type": "code",
        "id": "vcwRzA801vGL",
        "outputId": "2937bebd-8aad-4ffe-db0b-7d5ccc703371",
        "colab": {
          "base_uri": "https://localhost:8080/",
          "height": 147
        }
      },
      "source": [
        "new_img_KIA = np.float32([[0, 0], [220, 0], [0, 50], [220, 50]])\n",
        "\n",
        "matrix = cv2.getPerspectiveTransform(plate_points_1, new_img_KIA)\n",
        "\n",
        "result = cv2.warpPerspective(img_gray, matrix, (220, 50))\n",
        "\n",
        "plt.imshow(result, cmap = 'gray')\n",
        "plt.show()"
      ],
      "execution_count": 0,
      "outputs": [
        {
          "output_type": "display_data",
          "data": {
            "image/png": "[encoded data removed]",
            "text/plain": [
              "<Figure size 432x288 with 1 Axes>"
            ]
          },
          "metadata": {
            "tags": []
          }
        }
      ]
    },
    {
      "cell_type": "markdown",
      "metadata": {
        "id": "a5pv2AjVeDF9",
        "colab_type": "text"
      },
      "source": [
        "I want to get a binary image. I will use this functions:\n",
        "- cv2.threshold\n",
        "- cv2.findContours"
      ]
    },
    {
      "cell_type": "code",
      "metadata": {
        "id": "vv3cF077Smai",
        "colab_type": "code",
        "outputId": "f3f567bb-0049-48ff-e001-789298850aef",
        "colab": {
          "base_uri": "https://localhost:8080/",
          "height": 180
        }
      },
      "source": [
        "# findContours and minAreaRect may help you\n",
        "result_gray = result\n",
        "\n",
        "ret, thresh = cv2.threshold(result_gray, 93, 255, cv2.THRESH_BINARY)\n",
        "\n",
        "contours, hierarchy = cv2.findContours(thresh, cv2.RETR_TREE, cv2.CHAIN_APPROX_SIMPLE)\n",
        "im2 = cv2.drawContours(thresh, contours, -1, (255, 0, 0), 1)\n",
        "img_contours = result.copy()\n",
        "\n",
        "print('Number of contours: {}'.format(len(contours)))\n",
        "\n",
        "# draw contours on input image\n",
        "#cv2.drawContours(img_contours, contours, -1, (255,0,0), 1)\n",
        "\n",
        "plt.imshow(im2,cmap = 'gray')\n",
        "plt.title('Threshold image with contours'), plt.xticks([]), plt.yticks([])\n",
        "plt.show()"
      ],
      "execution_count": 0,
      "outputs": [
        {
          "output_type": "stream",
          "text": [
            "Number of contours: 22\n"
          ],
          "name": "stdout"
        },
        {
          "output_type": "display_data",
          "data": {
            "image/png": "[encoded data removed]",
            "text/plain": [
              "<Figure size 432x288 with 1 Axes>"
            ]
          },
          "metadata": {
            "tags": []
          }
        },
        {
          "output_type": "stream",
          "text": [
            "(50, 220)\n"
          ],
          "name": "stdout"
        }
      ]
    },
    {
      "cell_type": "markdown",
      "metadata": {
        "id": "fpsFcHSchFjI",
        "colab_type": "text"
      },
      "source": [
        "I go 22 contours, but i need only 9. I know x, y, w, h parameters of each contour. So I will put threshold and drow only 9 contours."
      ]
    },
    {
      "cell_type": "code",
      "metadata": {
        "id": "YG3B2dGqkVCe",
        "colab_type": "code",
        "outputId": "27509a47-bcd6-40a9-c51c-c76c41cfee27",
        "colab": {
          "base_uri": "https://localhost:8080/",
          "height": 180
        }
      },
      "source": [
        "img_rectangle_rot = im2.copy()\n",
        "for i in range (0, len(contours)):\n",
        "  x, y, w, h = cv2.boundingRect(contours[i])\n",
        "  if w >= 13 and w < 200 and h >= 29:\n",
        "    contour = contours[i]\n",
        "    rect = cv2.minAreaRect(contour) \n",
        "    box = cv2.boxPoints(rect)\n",
        "    box = np.int0(box)\n",
        "    cv2.drawContours(img_rectangle_rot,[box], 0, (0,0,255), 1)\n",
        "\n",
        "plt.imshow(img_rectangle_rot, cmap = 'gray'), plt.xticks([]), plt.yticks([])"
      ],
      "execution_count": 0,
      "outputs": [
        {
          "output_type": "execute_result",
          "data": {
            "text/plain": [
              "(<matplotlib.image.AxesImage at 0x7f2caebdd668>,\n",
              " ([], <a list of 0 Text xticklabel objects>),\n",
              " ([], <a list of 0 Text yticklabel objects>))"
            ]
          },
          "metadata": {
            "tags": []
          },
          "execution_count": 371
        },
        {
          "output_type": "display_data",
          "data": {
            "image/png": "[encoded data removed]",
            "text/plain": [
              "<Figure size 432x288 with 1 Axes>"
            ]
          },
          "metadata": {
            "tags": []
          }
        }
      ]
    },
    {
      "cell_type": "markdown",
      "metadata": {
        "id": "-_2PLvCwiGeT",
        "colab_type": "text"
      },
      "source": [
        "Here I sort 9 contours"
      ]
    },
    {
      "cell_type": "code",
      "metadata": {
        "id": "C_Ne8SFhzA0F",
        "colab_type": "code",
        "colab": {}
      },
      "source": [
        "xx = []\n",
        "listik = []\n",
        "img_rectangle = im2.copy()\n",
        "for i in range (0, len(contours)):\n",
        "  x, y, w, h = cv2.boundingRect(contours[i])\n",
        "  if w >= 13 and w < 200 and h >= 29:\n",
        "    xx.append(x)\n",
        "    im = img_rectangle[y-3:y+h+4, x-5:x+w+3]\n",
        "    im = cv2.resize(im, (28,28))\n",
        "    listik.append(im)\n",
        "# Sort\n",
        "for i in range(len(listik) - 1):\n",
        "  for j in range(len(listik) - i - 1):\n",
        "    if xx[j] > xx[j+1]:\n",
        "      xx[j], xx[j+1] = xx[j+1], xx[j]\n",
        "      listik[j], listik[j+1] = listik[j+1], listik[j]"
      ],
      "execution_count": 0,
      "outputs": []
    },
    {
      "cell_type": "code",
      "metadata": {
        "id": "qZRHVAz43QzL",
        "colab_type": "code",
        "outputId": "35172f90-9ef1-4e24-f9d5-1d2e1cf5efc6",
        "colab": {
          "base_uri": "https://localhost:8080/",
          "height": 103
        }
      },
      "source": [
        "def showInRow(list_of_images, titles = None, disable_ticks = False):\n",
        "  count = len(list_of_images)\n",
        "  for idx in range(count):\n",
        "    subplot = plt.subplot(1, count, idx+1)\n",
        "    if titles is not None:\n",
        "      subplot.set_title(titles[idx])\n",
        "      \n",
        "    img = list_of_images[idx]\n",
        "    cmap = 'gray' if (len(img.shape) == 2 or img.shape[2] == 1) else None\n",
        "    subplot.imshow(img, cmap=cmap)\n",
        "    if disable_ticks:\n",
        "      plt.xticks([]), plt.yticks([])\n",
        "\n",
        "showInRow([listik[0], listik[1], listik[2], listik[3], listik[4], listik[5], listik[6], listik[7], listik[8]])"
      ],
      "execution_count": 0,
      "outputs": [
        {
          "output_type": "display_data",
          "data": {
            "image/png": "[encoded data removed]",
            "text/plain": [
              "<Figure size 432x288 with 9 Axes>"
            ]
          },
          "metadata": {
            "tags": []
          }
        }
      ]
    },
    {
      "cell_type": "code",
      "metadata": {
        "id": "_a0n3NkUPIVH",
        "colab_type": "code",
        "colab": {}
      },
      "source": [
        "listik_filt = np.copy(listik)"
      ],
      "execution_count": 0,
      "outputs": []
    },
    {
      "cell_type": "markdown",
      "metadata": {
        "id": "ngOJ8vzfiWRD",
        "colab_type": "text"
      },
      "source": [
        "Add noise to images"
      ]
    },
    {
      "cell_type": "code",
      "metadata": {
        "id": "HQEqvBPGPvDw",
        "colab_type": "code",
        "outputId": "f24d4c42-8ec6-4909-f457-0b8c074aa85e",
        "colab": {
          "base_uri": "https://localhost:8080/",
          "height": 103
        }
      },
      "source": [
        "for i in range(len(listik_filt)): \n",
        "  listik_filt[i] = cv2.GaussianBlur(listik_filt[i], (3,3), 0)\n",
        "\n",
        "showInRow([listik_filt[0], listik_filt[1], listik_filt[2], listik_filt[3], listik_filt[4], listik_filt[5], listik_filt[6], listik_filt[7], listik_filt[8]])"
      ],
      "execution_count": 0,
      "outputs": [
        {
          "output_type": "display_data",
          "data": {
            "image/png": "[encoded data removed]",
            "text/plain": [
              "<Figure size 432x288 with 9 Axes>"
            ]
          },
          "metadata": {
            "tags": []
          }
        }
      ]
    },
    {
      "cell_type": "markdown",
      "metadata": {
        "colab_type": "text",
        "id": "4rpfJeL9nZQi"
      },
      "source": [
        "## Step 3 -> Recognition"
      ]
    },
    {
      "cell_type": "markdown",
      "metadata": {
        "id": "vsgfLY1Iv2yN",
        "colab_type": "text"
      },
      "source": [
        "####This model is training on EMNIST"
      ]
    },
    {
      "cell_type": "code",
      "metadata": {
        "id": "2nvMQ_LWS2ww",
        "colab_type": "code",
        "outputId": "0eeabe1c-88ed-4b21-a8cf-98a69e9f750b",
        "colab": {
          "base_uri": "https://localhost:8080/",
          "height": 517
        }
      },
      "source": [
        "batch_size = 128\n",
        "num_classes = 62\n",
        "epochs = 12\n",
        "\n",
        "img_rows, img_cols = 28, 28\n",
        "\n",
        "x_train, y_train = extract_training_samples(\"byclass\")\n",
        "x_test, y_test = extract_test_samples(\"byclass\")\n",
        "\n",
        "if K.image_data_format() == 'channels_first':\n",
        "    x_train = x_train.reshape(x_train.shape[0], 1, img_rows, img_cols)\n",
        "    x_test = x_test.reshape(x_test.shape[0], 1, img_rows, img_cols)\n",
        "    input_shape = (1, img_rows, img_cols)\n",
        "else:\n",
        "    x_train = x_train.reshape(x_train.shape[0], img_rows, img_cols, 1)\n",
        "    x_test = x_test.reshape(x_test.shape[0], img_rows, img_cols, 1)\n",
        "    input_shape = (img_rows, img_cols, 1)\n",
        "\n",
        "x_train = x_train.astype('float32')\n",
        "x_test = x_test.astype('float32')\n",
        "x_train /= 255\n",
        "x_test /= 255\n",
        "print('x_train shape:', x_train.shape)\n",
        "print(x_train.shape[0], 'train samples')\n",
        "print(x_test.shape[0], 'test samples')\n",
        "\n",
        "# convert class vectors to binary class matrices\n",
        "y_train = keras.utils.to_categorical(y_train, num_classes)\n",
        "y_test = keras.utils.to_categorical(y_test, num_classes)\n",
        "\n",
        "model = Sequential()\n",
        "model.add(Conv2D(32, kernel_size=(3, 3),\n",
        "                 activation='relu',\n",
        "                 input_shape=input_shape))\n",
        "model.add(Conv2D(64, (3, 3), activation='relu'))\n",
        "#model.add(MaxPooling2D(pool_size=(2, 2)))\n",
        "model.add(Dropout(0.25))\n",
        "model.add(Flatten())\n",
        "model.add(Dense(128, activation='relu'))\n",
        "model.add(Dropout(0.5))\n",
        "model.add(Dense(num_classes, activation='softmax'))\n",
        "\n",
        "model.compile(loss=keras.losses.categorical_crossentropy,\n",
        "              optimizer=keras.optimizers.Adadelta(),\n",
        "              metrics=['accuracy'])\n",
        "\n",
        "model.fit(x_train, y_train,\n",
        "          batch_size=batch_size,\n",
        "          epochs=epochs,\n",
        "          verbose=1,\n",
        "          validation_data=(x_test, y_test))\n",
        "score = model.evaluate(x_test, y_test, verbose=0)\n",
        "print('Test accuracy:', score[1])\n",
        "#clear_output()"
      ],
      "execution_count": 0,
      "outputs": [
        {
          "output_type": "stream",
          "text": [
            "x_train shape: (697932, 28, 28, 1)\n",
            "697932 train samples\n",
            "116323 test samples\n",
            "Train on 697932 samples, validate on 116323 samples\n",
            "Epoch 1/12\n",
            "697932/697932 [==============================] - 122s 174us/step - loss: 0.7089 - acc: 0.7815 - val_loss: 0.4327 - val_acc: 0.8481\n",
            "Epoch 2/12\n",
            "697932/697932 [==============================] - 120s 172us/step - loss: 0.5092 - acc: 0.8303 - val_loss: 0.4104 - val_acc: 0.8530\n",
            "Epoch 3/12\n",
            "697932/697932 [==============================] - 121s 173us/step - loss: 0.4803 - acc: 0.8387 - val_loss: 0.4024 - val_acc: 0.8552\n",
            "Epoch 4/12\n",
            "697932/697932 [==============================] - 121s 174us/step - loss: 0.4649 - acc: 0.8428 - val_loss: 0.3902 - val_acc: 0.8588\n",
            "Epoch 5/12\n",
            "697932/697932 [==============================] - 122s 175us/step - loss: 0.4551 - acc: 0.8459 - val_loss: 0.3954 - val_acc: 0.8607\n",
            "Epoch 6/12\n",
            "697932/697932 [==============================] - 120s 172us/step - loss: 0.4476 - acc: 0.8475 - val_loss: 0.3855 - val_acc: 0.8620\n",
            "Epoch 7/12\n",
            "697932/697932 [==============================] - 120s 172us/step - loss: 0.4413 - acc: 0.8498 - val_loss: 0.3868 - val_acc: 0.8608\n",
            "Epoch 8/12\n",
            "697932/697932 [==============================] - 120s 171us/step - loss: 0.4351 - acc: 0.8517 - val_loss: 0.3948 - val_acc: 0.8638\n",
            "Epoch 9/12\n",
            "697932/697932 [==============================] - 121s 173us/step - loss: 0.4311 - acc: 0.8523 - val_loss: 0.3972 - val_acc: 0.8642\n",
            "Epoch 10/12\n",
            "697932/697932 [==============================] - 120s 172us/step - loss: 0.4272 - acc: 0.8539 - val_loss: 0.3949 - val_acc: 0.8589\n",
            "Epoch 11/12\n",
            "697932/697932 [==============================] - 120s 172us/step - loss: 0.4241 - acc: 0.8548 - val_loss: 0.3902 - val_acc: 0.8651\n",
            "Epoch 12/12\n",
            "697932/697932 [==============================] - 120s 172us/step - loss: 0.4204 - acc: 0.8556 - val_loss: 0.3979 - val_acc: 0.8646\n",
            "Test accuracy: 0.8646355406932387\n"
          ],
          "name": "stdout"
        }
      ]
    },
    {
      "cell_type": "code",
      "metadata": {
        "id": "vaBIg1apWieY",
        "colab_type": "code",
        "colab": {}
      },
      "source": [
        "simbols = ['0', '1', '2', '3', '4', '5', '6', '7', '8', '9', 'a', 'b', 'c', 'd', 'e', 'f', 'g', 'h', 'i', 'j', \n",
        "           'k', 'l', 'm', 'n', 'o', 'p', 'q', 'r', 's', 't', 'u', 'v', 'w', 'x', 'y', 'z', 'A', 'B', 'C', 'D', \n",
        "           'E', 'F', 'G', 'H', 'I', 'J', 'K', 'L', 'M', 'N', \n",
        "           'O', 'P', 'Q', 'R', 'S', 'T', 'U', 'V', 'W', 'X', 'Y', 'Z']"
      ],
      "execution_count": 0,
      "outputs": []
    },
    {
      "cell_type": "markdown",
      "metadata": {
        "id": "uVQVvbdcxe8e",
        "colab_type": "text"
      },
      "source": [
        "####Recognition Numbers and Letters"
      ]
    },
    {
      "cell_type": "code",
      "metadata": {
        "id": "OfQL7A2rZQq_",
        "colab_type": "code",
        "outputId": "f4968bc3-418b-46b8-94e8-23986ee7fa0b",
        "colab": {
          "base_uri": "https://localhost:8080/",
          "height": 71
        }
      },
      "source": [
        "answers = []\n",
        "for i in range(0, len(listik_filt)):\n",
        "  listik_filt[i] = 255 - listik_filt[i]\n",
        "  newIm = cv2.resize(listik_filt[i], (28, 28))\n",
        "  newIm = newIm.astype('float32')/255\n",
        "  pr = model.predict(newIm.reshape(1,28,28,1))\n",
        "  pred = np.argmax(pr)\n",
        "  answers.append(simbols[pred])\n",
        "print(\"predicted\", answers)\n",
        "print('true        x,   0,   4,   7,   o,   c,   1,   1,   6')"
      ],
      "execution_count": 0,
      "outputs": [
        {
          "output_type": "stream",
          "text": [
            "predicted , x,   0,   4,   7,   o,   c,   1,   1,   6\n",
            "true        x,   0,   4,   7,   o,   c,   1,   1,   6\n"
          ],
          "name": "stdout"
        }
      ]
    },
    {
      "cell_type": "markdown",
      "metadata": {
        "id": "_BG2pplCkxOr",
        "colab_type": "text"
      },
      "source": [
        "The same process the the 2nd Pic"
      ]
    },
    {
      "cell_type": "code",
      "metadata": {
        "id": "aBTwbKHMDqyY",
        "colab_type": "code",
        "outputId": "09cd016e-0da1-466c-fff6-23820f431a02",
        "colab": {
          "base_uri": "https://localhost:8080/",
          "height": 147
        }
      },
      "source": [
        "# findHomography and warpPerspective may help you\n",
        "new_img_SHKODA = np.float32([[0, 0], [220, 0], [0, 50], [220, 50]])\n",
        "\n",
        "matrix = cv2.getPerspectiveTransform(plate_points_2, new_img_SHKODA)\n",
        "\n",
        "result_SHKODA = cv2.warpPerspective(img_gray, matrix, (220, 50))\n",
        "\n",
        "plt.imshow(result_SHKODA, cmap = 'gray')\n",
        "plt.show()"
      ],
      "execution_count": 0,
      "outputs": [
        {
          "output_type": "display_data",
          "data": {
            "image/png": "[encoded data removed]",
            "text/plain": [
              "<Figure size 432x288 with 1 Axes>"
            ]
          },
          "metadata": {
            "tags": []
          }
        }
      ]
    },
    {
      "cell_type": "code",
      "metadata": {
        "id": "m4kaxVZdD4q_",
        "colab_type": "code",
        "outputId": "58f8d4b7-082d-44dd-fc74-a3e85ad76a53",
        "colab": {
          "base_uri": "https://localhost:8080/",
          "height": 163
        }
      },
      "source": [
        "block_size = 55 \n",
        "c_value = 6 \n",
        "result_gray_SHKODA = result_SHKODA \n",
        "\n",
        "kernel = np.ones((4,1), np.uint8) \n",
        "\n",
        "thresh = cv2.adaptiveThreshold(result_gray_SHKODA,255,cv2.ADAPTIVE_THRESH_GAUSSIAN_C, cv2.THRESH_BINARY,block_size,c_value)\n",
        "\n",
        "contours, hierarchy = cv2.findContours(thresh, cv2.RETR_TREE, cv2.CHAIN_APPROX_SIMPLE)\n",
        "im3 = cv2.drawContours(thresh, contours, -1, (255, 0, 0), 1)\n",
        "img_contours = result_SHKODA.copy()\n",
        "\n",
        "print('Number of contours: {}'.format(len(contours)))\n",
        "\n",
        "plt.imshow(im3,cmap = 'gray')\n",
        "plt.title('Threshold image with contours'), plt.xticks([]), plt.yticks([])\n",
        "plt.show()"
      ],
      "execution_count": 0,
      "outputs": [
        {
          "output_type": "stream",
          "text": [
            "Number of contours: 35\n"
          ],
          "name": "stdout"
        },
        {
          "output_type": "display_data",
          "data": {
            "image/png": "[encoded data removed]",
            "text/plain": [
              "<Figure size 432x288 with 1 Axes>"
            ]
          },
          "metadata": {
            "tags": []
          }
        }
      ]
    },
    {
      "cell_type": "code",
      "metadata": {
        "id": "2Cn1UnX8EUVv",
        "colab_type": "code",
        "outputId": "ff316dc1-1616-45b5-cd30-8e8f80a17013",
        "colab": {
          "base_uri": "https://localhost:8080/",
          "height": 164
        }
      },
      "source": [
        "img_rectangle_rot_SHKODA = im3.copy()\n",
        "for i in range (0, len(contours)):\n",
        "  x, y, w, h = cv2.boundingRect(contours[i])\n",
        "  if w >= 13 and w < 200 and h >= 29:\n",
        "    contour = contours[i]\n",
        "    rect = cv2.minAreaRect(contour) \n",
        "    box = cv2.boxPoints(rect)\n",
        "    box = np.int0(box)\n",
        "    cv2.drawContours(img_rectangle_rot_SHKODA,[box], 0, (0,0,255), 1)\n",
        "\n",
        "plt.imshow(img_rectangle_rot_SHKODA, cmap = 'gray')#№, plt.xticks([]), plt.yticks([])"
      ],
      "execution_count": 0,
      "outputs": [
        {
          "output_type": "execute_result",
          "data": {
            "text/plain": [
              "<matplotlib.image.AxesImage at 0x7f2d1a5f6be0>"
            ]
          },
          "metadata": {
            "tags": []
          },
          "execution_count": 387
        },
        {
          "output_type": "display_data",
          "data": {
            "image/png": "[encoded data removed]",
            "text/plain": [
              "<Figure size 432x288 with 1 Axes>"
            ]
          },
          "metadata": {
            "tags": []
          }
        }
      ]
    },
    {
      "cell_type": "code",
      "metadata": {
        "id": "Q5BdwfCBE9Sf",
        "colab_type": "code",
        "colab": {}
      },
      "source": [
        "ss = []\n",
        "listik_SHKODA = []\n",
        "img_rectangle_SHKODA = im3.copy()\n",
        "for i in range (0, len(contours)):\n",
        "  x, y, w, h = cv2.boundingRect(contours[i])\n",
        "  if w >= 13 and w < 200 and h >= 29:\n",
        "    ss.append(x)\n",
        "    im = img_rectangle_SHKODA[y:y+h, x:x+w]\n",
        "    im = cv2.resize(im, (28,28))\n",
        "    listik_SHKODA.append(im)\n",
        "# Sort\n",
        "for i in range(len(listik_SHKODA) - 1):\n",
        "  for j in range(len(listik_SHKODA) - i - 1):\n",
        "    if ss[j] > ss[j+1]:\n",
        "      ss[j], ss[j+1] = ss[j+1], ss[j]\n",
        "      listik_SHKODA[j], listik_SHKODA[j+1] = listik_SHKODA[j+1], listik_SHKODA[j]"
      ],
      "execution_count": 0,
      "outputs": []
    },
    {
      "cell_type": "code",
      "metadata": {
        "id": "xLZ1q1YGGFii",
        "colab_type": "code",
        "outputId": "1f7246a4-9d4c-4f46-f9a0-2b76d43c12be",
        "colab": {
          "base_uri": "https://localhost:8080/",
          "height": 120
        }
      },
      "source": [
        "def showInRow(list_of_images, titles = None, disable_ticks = False):\n",
        "  count = len(list_of_images)\n",
        "  for idx in range(count):\n",
        "    subplot = plt.subplot(1, count, idx+1)\n",
        "    if titles is not None:\n",
        "      subplot.set_title(titles[idx])\n",
        "      \n",
        "    img = list_of_images[idx]\n",
        "    cmap = 'gray' if (len(img.shape) == 2 or img.shape[2] == 1) else None\n",
        "    subplot.imshow(img, cmap=cmap)\n",
        "    if disable_ticks:\n",
        "      plt.xticks([]), plt.yticks([])\n",
        "print(len(listik_SHKODA))\n",
        "showInRow([listik_SHKODA[0], listik_SHKODA[1], listik_SHKODA[2], listik_SHKODA[3], listik_SHKODA[4], listik_SHKODA[5], listik_SHKODA[6], listik_SHKODA[7], listik_SHKODA[8]])"
      ],
      "execution_count": 0,
      "outputs": [
        {
          "output_type": "stream",
          "text": [
            "9\n"
          ],
          "name": "stdout"
        },
        {
          "output_type": "display_data",
          "data": {
            "image/png": "[encoded data removed]",
            "text/plain": [
              "<Figure size 432x288 with 9 Axes>"
            ]
          },
          "metadata": {
            "tags": []
          }
        }
      ]
    },
    {
      "cell_type": "code",
      "metadata": {
        "id": "z1iDjZg0GkXO",
        "colab_type": "code",
        "colab": {}
      },
      "source": [
        "listik_filt_SHKODA = np.copy(listik_SHKODA)"
      ],
      "execution_count": 0,
      "outputs": []
    },
    {
      "cell_type": "code",
      "metadata": {
        "id": "zzKuxz6YGt-a",
        "colab_type": "code",
        "outputId": "74fa3d51-ce62-40ef-ec33-7c4cd25ca3f6",
        "colab": {
          "base_uri": "https://localhost:8080/",
          "height": 103
        }
      },
      "source": [
        "for i in range(len(listik_filt_SHKODA)):\n",
        "  listik_filt_SHKODA[i] = cv2.GaussianBlur(listik_filt_SHKODA[i], (3,3), 0)\n",
        "\n",
        "showInRow([listik_filt_SHKODA[0], listik_filt_SHKODA[1], listik_filt_SHKODA[2], listik_filt_SHKODA[3], listik_filt_SHKODA[4], listik_filt_SHKODA[5], listik_filt_SHKODA[6], listik_filt_SHKODA[7], listik_filt_SHKODA[8]])"
      ],
      "execution_count": 0,
      "outputs": [
        {
          "output_type": "display_data",
          "data": {
            "image/png": "[encoded data removed]",
            "text/plain": [
              "<Figure size 432x288 with 9 Axes>"
            ]
          },
          "metadata": {
            "tags": []
          }
        }
      ]
    },
    {
      "cell_type": "markdown",
      "metadata": {
        "id": "LX4lNttIl7SD",
        "colab_type": "text"
      },
      "source": [
        "####Recognition Numbers and Letters"
      ]
    },
    {
      "cell_type": "code",
      "metadata": {
        "id": "1ANf6gAhl6m-",
        "colab_type": "code",
        "outputId": "e6b7dbd1-3bb0-48e3-d084-1bb1fbc11d6e",
        "colab": {
          "base_uri": "https://localhost:8080/",
          "height": 71
        }
      },
      "source": [
        "answers2 = []\n",
        "for i in range(0, len(listik_filt_SHKODA)):\n",
        "  listik_filt_SHKODA[i] = 255 - listik_filt_SHKODA[i]\n",
        "  newIm = cv2.resize(listik_filt_SHKODA[i], (28, 28))\n",
        "  newIm = newIm.astype('float32')/255\n",
        "  pr = model.predict(newIm.reshape(1,28,28,1))\n",
        "  pred = np.argmax(pr)\n",
        "  answers2.append(simbols[pred])\n",
        "print(\"predicted\", answers2)\n",
        "print('true        x,   1,   0,   6,   e,   k,   1,   1,   6')"
      ],
      "execution_count": 0,
      "outputs": [
        {
          "output_type": "stream",
          "text": [
            "predicted , x,   1,   0,   6,   e,   k,   1,   1,   6'\n",
            "true        x,   1,   0,   6,   e,   k,   1,   1,   6\n"
          ],
          "name": "stdout"
        }
      ]
    }
  ]
}